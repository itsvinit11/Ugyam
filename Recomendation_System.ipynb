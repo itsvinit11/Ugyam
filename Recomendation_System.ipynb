{
  "nbformat": 4,
  "nbformat_minor": 0,
  "metadata": {
    "colab": {
      "provenance": [],
      "mount_file_id": "1czO70g5pxv_RaTgkxf71k9sgNS7jR8q2",
      "authorship_tag": "ABX9TyM/X60/izc2gSPJdxcHeeAx",
      "include_colab_link": true
    },
    "kernelspec": {
      "name": "python3",
      "display_name": "Python 3"
    },
    "language_info": {
      "name": "python"
    }
  },
  "cells": [
    {
      "cell_type": "markdown",
      "metadata": {
        "id": "view-in-github",
        "colab_type": "text"
      },
      "source": [
        "<a href=\"https://colab.research.google.com/github/itsvinit11/Ugyam/blob/main/Recomendation_System.ipynb\" target=\"_parent\"><img src=\"https://colab.research.google.com/assets/colab-badge.svg\" alt=\"Open In Colab\"/></a>"
      ]
    },
    {
      "cell_type": "code",
      "execution_count": 3,
      "metadata": {
        "colab": {
          "base_uri": "https://localhost:8080/"
        },
        "id": "XoXqJsMMLcCm",
        "outputId": "e6856fd6-ada6-4529-a8f9-b9fb344d4c60"
      },
      "outputs": [
        {
          "output_type": "stream",
          "name": "stdout",
          "text": [
            "                 Caterer Name                      Address  \\\n",
            "23            Balaji Caterers     Surajpole Bazar, Udaipur   \n",
            "27      Udaipur Food Caterers  Durga Nursery Road, Udaipur   \n",
            "8   Udaipur Catering Services     Ambamata Scheme, Udaipur   \n",
            "\n",
            "                     Price Range                      Email Address  \\\n",
            "23  Rs. 500 - Rs. 1500 per plate   balajicaterers.udaipur@gmail.com   \n",
            "27     ₹1,000 - ₹3,000 per plate      udaipurfoodcaterers@gmail.com   \n",
            "8   Rs. 500 - Rs. 1000 per plate  udaipurcateringservices@gmail.com   \n",
            "\n",
            "                          Specialties  \n",
            "23  Rajasthani, North Indian, Chinese  \n",
            "27  Rajasthani, North Indian, Chinese  \n",
            "8   Rajasthani, North Indian, Chinese  \n"
          ]
        }
      ],
      "source": [
        "# Content-Based-Filtering\n",
        "\n",
        "import pandas as pd\n",
        "from sklearn.feature_extraction.text import TfidfVectorizer\n",
        "from sklearn.metrics.pairwise import cosine_similarity\n",
        "import numpy as np\n",
        "from sklearn.metrics import accuracy_score\n",
        "import pickle\n",
        "\n",
        "# Gather data\n",
        "events = pd.read_csv('caterings1.csv')\n",
        "#url = (r\"\")\n",
        "\n",
        "\n",
        "# Define features\n",
        "features = [ 'Caterer Name','Address','Price Range','Email Address','Specialties']\n",
        "\n",
        "# Preprocess data\n",
        "events = events.drop_duplicates(subset=['Email Address']) # Remove duplicates\n",
        "events = events[features].fillna('') # Fill any missing values with empty string\n",
        "\n",
        "# Vectorize features\n",
        "vectorizer = TfidfVectorizer()\n",
        "vectors = vectorizer.fit_transform(events.apply(lambda x: ' '.join(x.astype(str)), axis=1))\n",
        "feature_names = vectorizer.get_feature_names_out()\n",
        "\n",
        "\n",
        "# Build the model / Training the model\n",
        "def content_based_filtering(user_events,n_recommendations=3):\n",
        "    # Get user's event history\n",
        "    user_vector = vectorizer.transform([' '.join(user_events)])\n",
        "    \n",
        "    # Compute similarity scores between user's history and all events\n",
        "    similarity_scores = cosine_similarity(user_vector, vectors).flatten()\n",
        "    \n",
        "    # Get top n most similar events\n",
        "    top_indices = similarity_scores.argsort()[::-1][:n_recommendations]\n",
        "    \n",
        "    recommend=events.iloc[top_indices]\n",
        "    \n",
        "    # Return event recommendations\n",
        "    return recommend\n",
        "\n",
        "# Train and test the model\n",
        "user_events = [\"Udaipur\"]\n",
        "recommendations = content_based_filtering(user_events,n_recommendations=3)\n",
        "print(recommendations)\n",
        "\n",
        "\n"
      ]
    },
    {
      "cell_type": "markdown",
      "source": [
        "# New section"
      ],
      "metadata": {
        "id": "lVikcg_Tn6tm"
      }
    },
    {
      "cell_type": "markdown",
      "source": [
        "# New section"
      ],
      "metadata": {
        "id": "M2i1Xio83hH2"
      }
    },
    {
      "cell_type": "code",
      "source": [
        "events.head()#caterings dataset"
      ],
      "metadata": {
        "colab": {
          "base_uri": "https://localhost:8080/",
          "height": 337
        },
        "id": "OQruw70cMwlC",
        "outputId": "a94adda1-8432-42d4-98b8-df5c7e494a67"
      },
      "execution_count": 4,
      "outputs": [
        {
          "output_type": "execute_result",
          "data": {
            "text/plain": [
              "           Caterer Name                                            Address  \\\n",
              "0        Laxmi Caterers                     Hiran Magri, Sector 4, Udaipur   \n",
              "1    Panna Lal Catering                                  Raja Park, Jaipur   \n",
              "2      Jodhpur Caterers                    9th C Road, Sardarpura, Jodhpur   \n",
              "3  Shri Marwar Caterers  2nd Floor, Om Shanti Complex, Bhupalpura, Udaipur   \n",
              "4       Sharma Caterers                                   Ambabari, Jaipur   \n",
              "\n",
              "                    Price Range                    Email Address  \\\n",
              "0  Rs. 500 - Rs. 1000 per plate            info@laxmicaterers.in   \n",
              "1   Rs. 300 - Rs. 800 per plate       pannalalcaterers@gmail.com   \n",
              "2  Rs. 600 - Rs. 1500 per plate         info@jodhpurcaterers.com   \n",
              "3   Rs. 200 - Rs. 500 per plate      info@shrimarwarcaterers.com   \n",
              "4   Rs. 100 - Rs. 300 per plate  sharmacaterers.jaipur@gmail.com   \n",
              "\n",
              "                             Specialties  \n",
              "0      Vegetarian, North Indian, Chinese  \n",
              "1  Rajasthani, North Indian, Continental  \n",
              "2      Rajasthani, North Indian, Chinese  \n",
              "3  Rajasthani, North Indian, Continental  \n",
              "4      Rajasthani, North Indian, Chinese  "
            ],
            "text/html": [
              "\n",
              "  <div id=\"df-c9366867-6be7-4697-8df2-939a088ccda0\">\n",
              "    <div class=\"colab-df-container\">\n",
              "      <div>\n",
              "<style scoped>\n",
              "    .dataframe tbody tr th:only-of-type {\n",
              "        vertical-align: middle;\n",
              "    }\n",
              "\n",
              "    .dataframe tbody tr th {\n",
              "        vertical-align: top;\n",
              "    }\n",
              "\n",
              "    .dataframe thead th {\n",
              "        text-align: right;\n",
              "    }\n",
              "</style>\n",
              "<table border=\"1\" class=\"dataframe\">\n",
              "  <thead>\n",
              "    <tr style=\"text-align: right;\">\n",
              "      <th></th>\n",
              "      <th>Caterer Name</th>\n",
              "      <th>Address</th>\n",
              "      <th>Price Range</th>\n",
              "      <th>Email Address</th>\n",
              "      <th>Specialties</th>\n",
              "    </tr>\n",
              "  </thead>\n",
              "  <tbody>\n",
              "    <tr>\n",
              "      <th>0</th>\n",
              "      <td>Laxmi Caterers</td>\n",
              "      <td>Hiran Magri, Sector 4, Udaipur</td>\n",
              "      <td>Rs. 500 - Rs. 1000 per plate</td>\n",
              "      <td>info@laxmicaterers.in</td>\n",
              "      <td>Vegetarian, North Indian, Chinese</td>\n",
              "    </tr>\n",
              "    <tr>\n",
              "      <th>1</th>\n",
              "      <td>Panna Lal Catering</td>\n",
              "      <td>Raja Park, Jaipur</td>\n",
              "      <td>Rs. 300 - Rs. 800 per plate</td>\n",
              "      <td>pannalalcaterers@gmail.com</td>\n",
              "      <td>Rajasthani, North Indian, Continental</td>\n",
              "    </tr>\n",
              "    <tr>\n",
              "      <th>2</th>\n",
              "      <td>Jodhpur Caterers</td>\n",
              "      <td>9th C Road, Sardarpura, Jodhpur</td>\n",
              "      <td>Rs. 600 - Rs. 1500 per plate</td>\n",
              "      <td>info@jodhpurcaterers.com</td>\n",
              "      <td>Rajasthani, North Indian, Chinese</td>\n",
              "    </tr>\n",
              "    <tr>\n",
              "      <th>3</th>\n",
              "      <td>Shri Marwar Caterers</td>\n",
              "      <td>2nd Floor, Om Shanti Complex, Bhupalpura, Udaipur</td>\n",
              "      <td>Rs. 200 - Rs. 500 per plate</td>\n",
              "      <td>info@shrimarwarcaterers.com</td>\n",
              "      <td>Rajasthani, North Indian, Continental</td>\n",
              "    </tr>\n",
              "    <tr>\n",
              "      <th>4</th>\n",
              "      <td>Sharma Caterers</td>\n",
              "      <td>Ambabari, Jaipur</td>\n",
              "      <td>Rs. 100 - Rs. 300 per plate</td>\n",
              "      <td>sharmacaterers.jaipur@gmail.com</td>\n",
              "      <td>Rajasthani, North Indian, Chinese</td>\n",
              "    </tr>\n",
              "  </tbody>\n",
              "</table>\n",
              "</div>\n",
              "      <button class=\"colab-df-convert\" onclick=\"convertToInteractive('df-c9366867-6be7-4697-8df2-939a088ccda0')\"\n",
              "              title=\"Convert this dataframe to an interactive table.\"\n",
              "              style=\"display:none;\">\n",
              "        \n",
              "  <svg xmlns=\"http://www.w3.org/2000/svg\" height=\"24px\"viewBox=\"0 0 24 24\"\n",
              "       width=\"24px\">\n",
              "    <path d=\"M0 0h24v24H0V0z\" fill=\"none\"/>\n",
              "    <path d=\"M18.56 5.44l.94 2.06.94-2.06 2.06-.94-2.06-.94-.94-2.06-.94 2.06-2.06.94zm-11 1L8.5 8.5l.94-2.06 2.06-.94-2.06-.94L8.5 2.5l-.94 2.06-2.06.94zm10 10l.94 2.06.94-2.06 2.06-.94-2.06-.94-.94-2.06-.94 2.06-2.06.94z\"/><path d=\"M17.41 7.96l-1.37-1.37c-.4-.4-.92-.59-1.43-.59-.52 0-1.04.2-1.43.59L10.3 9.45l-7.72 7.72c-.78.78-.78 2.05 0 2.83L4 21.41c.39.39.9.59 1.41.59.51 0 1.02-.2 1.41-.59l7.78-7.78 2.81-2.81c.8-.78.8-2.07 0-2.86zM5.41 20L4 18.59l7.72-7.72 1.47 1.35L5.41 20z\"/>\n",
              "  </svg>\n",
              "      </button>\n",
              "      \n",
              "  <style>\n",
              "    .colab-df-container {\n",
              "      display:flex;\n",
              "      flex-wrap:wrap;\n",
              "      gap: 12px;\n",
              "    }\n",
              "\n",
              "    .colab-df-convert {\n",
              "      background-color: #E8F0FE;\n",
              "      border: none;\n",
              "      border-radius: 50%;\n",
              "      cursor: pointer;\n",
              "      display: none;\n",
              "      fill: #1967D2;\n",
              "      height: 32px;\n",
              "      padding: 0 0 0 0;\n",
              "      width: 32px;\n",
              "    }\n",
              "\n",
              "    .colab-df-convert:hover {\n",
              "      background-color: #E2EBFA;\n",
              "      box-shadow: 0px 1px 2px rgba(60, 64, 67, 0.3), 0px 1px 3px 1px rgba(60, 64, 67, 0.15);\n",
              "      fill: #174EA6;\n",
              "    }\n",
              "\n",
              "    [theme=dark] .colab-df-convert {\n",
              "      background-color: #3B4455;\n",
              "      fill: #D2E3FC;\n",
              "    }\n",
              "\n",
              "    [theme=dark] .colab-df-convert:hover {\n",
              "      background-color: #434B5C;\n",
              "      box-shadow: 0px 1px 3px 1px rgba(0, 0, 0, 0.15);\n",
              "      filter: drop-shadow(0px 1px 2px rgba(0, 0, 0, 0.3));\n",
              "      fill: #FFFFFF;\n",
              "    }\n",
              "  </style>\n",
              "\n",
              "      <script>\n",
              "        const buttonEl =\n",
              "          document.querySelector('#df-c9366867-6be7-4697-8df2-939a088ccda0 button.colab-df-convert');\n",
              "        buttonEl.style.display =\n",
              "          google.colab.kernel.accessAllowed ? 'block' : 'none';\n",
              "\n",
              "        async function convertToInteractive(key) {\n",
              "          const element = document.querySelector('#df-c9366867-6be7-4697-8df2-939a088ccda0');\n",
              "          const dataTable =\n",
              "            await google.colab.kernel.invokeFunction('convertToInteractive',\n",
              "                                                     [key], {});\n",
              "          if (!dataTable) return;\n",
              "\n",
              "          const docLinkHtml = 'Like what you see? Visit the ' +\n",
              "            '<a target=\"_blank\" href=https://colab.research.google.com/notebooks/data_table.ipynb>data table notebook</a>'\n",
              "            + ' to learn more about interactive tables.';\n",
              "          element.innerHTML = '';\n",
              "          dataTable['output_type'] = 'display_data';\n",
              "          await google.colab.output.renderOutput(dataTable, element);\n",
              "          const docLink = document.createElement('div');\n",
              "          docLink.innerHTML = docLinkHtml;\n",
              "          element.appendChild(docLink);\n",
              "        }\n",
              "      </script>\n",
              "    </div>\n",
              "  </div>\n",
              "  "
            ]
          },
          "metadata": {},
          "execution_count": 4
        }
      ]
    },
    {
      "cell_type": "code",
      "source": [
        "#Naive bayes for checking the accuracy\n",
        "\n",
        "from sklearn.feature_extraction.text import TfidfVectorizer\n",
        "from sklearn.naive_bayes import MultinomialNB\n",
        "from sklearn.pipeline import Pipeline\n",
        "from sklearn.model_selection import train_test_split\n",
        "from sklearn.metrics import accuracy_score\n",
        "\n",
        "\n",
        "# define the feature and target columns\n",
        "X = events[\"Specialties\"]\n",
        "y = events[\"Price Range\"]\n",
        "\n",
        "# split the data into training and test sets\n",
        "X_train, X_test, y_train, y_test = train_test_split(X, y, test_size=0.2, random_state=42)\n",
        "\n",
        "# define a pipeline to vectorize text and train a Multinomial Naive Bayes classifier\n",
        "pipeline = Pipeline([\n",
        "    (\"vectorizer\", TfidfVectorizer()),\n",
        "    (\"classifier\", MultinomialNB())\n",
        "])\n",
        "\n",
        "# fit the pipeline on the training data\n",
        "pipeline.fit(X_train, y_train)\n",
        "\n",
        "# make predictions on the test set\n",
        "y_pred = pipeline.predict(X_test)\n",
        "\n",
        "# calculate accuracy of the model on the test set\n",
        "a = accuracy_score(y_test, y_pred)\n",
        "\n",
        "# print the accuracy score\n",
        "print(\"Accuracy on test set: {:.2f}\".format(a*100))\n",
        "\n",
        "\n"
      ],
      "metadata": {
        "colab": {
          "base_uri": "https://localhost:8080/"
        },
        "id": "rnjsQvMgM-YM",
        "outputId": "69e71899-1004-4045-83e9-917e26aa946a"
      },
      "execution_count": 5,
      "outputs": [
        {
          "output_type": "stream",
          "name": "stdout",
          "text": [
            "Accuracy on test set: 12.90\n"
          ]
        }
      ]
    }
  ]
}